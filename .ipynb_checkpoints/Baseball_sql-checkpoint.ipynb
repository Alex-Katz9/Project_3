{
 "cells": [
  {
   "cell_type": "code",
   "execution_count": 6,
   "metadata": {},
   "outputs": [
    {
     "data": {
      "text/plain": [
       "array(['allstarfull', 'appearances', 'awardsmanagers', 'awardsplayers',\n",
       "       'awardssharemanagers', 'awardsshareplayers', 'batting',\n",
       "       'battingpost', 'collegeplaying', 'divisions', 'fielding',\n",
       "       'fieldingof', 'fieldingofsplit', 'fieldingpost', 'halloffame',\n",
       "       'homegames', 'leagues', 'managers', 'managershalf', 'parks',\n",
       "       'people', 'pitching', 'pitchingpost', 'salaries', 'schools',\n",
       "       'seriespost', 'teams', 'teamsfranchises', 'teamshalf'],\n",
       "      dtype=object)"
      ]
     },
     "execution_count": 6,
     "metadata": {},
     "output_type": "execute_result"
    }
   ],
   "source": [
    "import pandas as pd\n",
    "import sqlite3\n",
    "\n",
    "conn = sqlite3.connect('lahman.sqlite')\n",
    "\n",
    "query = \"SELECT * FROM sqlite_master;\"\n",
    "\n",
    "df_schema = pd.read_sql_query(query, conn)\n",
    "\n",
    "df_schema.tbl_name.unique()"
   ]
  },
  {
   "cell_type": "code",
   "execution_count": 8,
   "metadata": {},
   "outputs": [
    {
     "ename": "SyntaxError",
     "evalue": "invalid syntax (<ipython-input-8-45505590a1f1>, line 3)",
     "output_type": "error",
     "traceback": [
      "\u001b[0;36m  File \u001b[0;32m\"<ipython-input-8-45505590a1f1>\"\u001b[0;36m, line \u001b[0;32m3\u001b[0m\n\u001b[0;31m    SELECT * FROM salaries GROUP BY teamID, yearID;\u001b[0m\n\u001b[0m                  ^\u001b[0m\n\u001b[0;31mSyntaxError\u001b[0m\u001b[0;31m:\u001b[0m invalid syntax\n"
     ]
    }
   ],
   "source": [
    "# What was the total spent on salaries by each team, each year?\n",
    "\n",
    "select teamID\n",
    "    ,yearID\n",
    "    ,sum(salary)\n",
    "from salaries s\n",
    "group by 1,2"
   ]
  },
  {
   "cell_type": "code",
   "execution_count": 7,
   "metadata": {},
   "outputs": [
    {
     "ename": "SyntaxError",
     "evalue": "invalid syntax (<ipython-input-7-83c6c53772b6>, line 3)",
     "output_type": "error",
     "traceback": [
      "\u001b[0;36m  File \u001b[0;32m\"<ipython-input-7-83c6c53772b6>\"\u001b[0;36m, line \u001b[0;32m3\u001b[0m\n\u001b[0;31m    SELECT playerID, yearID\u001b[0m\n\u001b[0m           ^\u001b[0m\n\u001b[0;31mSyntaxError\u001b[0m\u001b[0;31m:\u001b[0m invalid syntax\n"
     ]
    }
   ],
   "source": [
    "# What is the first and last year played for each player? Hint: Create a new table from 'Fielding.csv'.\n",
    "create table first_and_last_year (\n",
    "    name string\n",
    "    , first_year int\n",
    "    , last_year int\n",
    ");\n",
    "insert into first_and_last_year (name, first_year, last_year)\n",
    "select nameFirst || ' ' || nameLast as name\n",
    "    , strftime('%Y',debut) as first_year\n",
    "    , strftime('%Y',finalgame) as last_year\n",
    "from people s"
   ]
  },
  {
   "cell_type": "code",
   "execution_count": 5,
   "metadata": {},
   "outputs": [
    {
     "ename": "SyntaxError",
     "evalue": "invalid syntax (<ipython-input-5-ae11cb8a8ebf>, line 3)",
     "output_type": "error",
     "traceback": [
      "\u001b[0;36m  File \u001b[0;32m\"<ipython-input-5-ae11cb8a8ebf>\"\u001b[0;36m, line \u001b[0;32m3\u001b[0m\n\u001b[0;31m    SELECT playerID, ROW_NUMBER() OVER (PARTITION BY playerID ORDER BY yearID) AS num_appearance FROM\u001b[0m\n\u001b[0m           ^\u001b[0m\n\u001b[0;31mSyntaxError\u001b[0m\u001b[0;31m:\u001b[0m invalid syntax\n"
     ]
    }
   ],
   "source": [
    "# Who has played the most all star games?\n",
    "\n",
    "select nameFirst || ' ' || nameLast as name\n",
    "    ,count(*) as cnt\n",
    "from allstarfull a\n",
    "    left join people p\n",
    "        using(playerID)\n",
    "order by cnt desc\n",
    "limit 1"
   ]
  },
  {
   "cell_type": "code",
   "execution_count": null,
   "metadata": {},
   "outputs": [],
   "source": [
    "# Which school has generated the most distinct players? Hint: Create new table from 'CollegePlaying.csv'.\n",
    "\n",
    "WITH colleges AS\n",
    "(SELECT playerID, schoolID, yearID\n",
    "FROM (\n",
    "SELECT * , ROW_NUMBER()\n",
    "OVER (PARTITION BY playerID ORDER BY yearID DESC) rn\n",
    "FROM collegeplaying)\n",
    "WHERE rn =1\n",
    ")\n",
    "SELECT schoolID,\n",
    "ROW_NUMBER() OVER (PARTITION BY schoolID ORDER BY yearID) AS num_players\n",
    "FROM colleges\n",
    "ORDER BY num_players DESC;"
   ]
  },
  {
   "cell_type": "code",
   "execution_count": null,
   "metadata": {},
   "outputs": [],
   "source": [
    "# Which players have the longest career? Assume that the debut and finalGame columns comprise \n",
    "# the start and end, respectively, of a player's career. Hint: Create a new table from 'Master.csv'. \n",
    "# Also note that strings can be converted to dates using the DATE function and can then be subtracted \n",
    "# from each other yielding their difference in days.\n",
    "\n",
    "SELECT\n",
    "playerID, debut, finalGame,\n",
    "(DATE(finalGame) - DATE(debut)) AS 'Career'\n",
    "FROM people\n",
    "ORDER BY Career DESC ;"
   ]
  },
  {
   "cell_type": "code",
   "execution_count": null,
   "metadata": {},
   "outputs": [],
   "source": [
    "# What is the distribution of debut months? Hint: Look at the DATE and EXTRACT functions.\n",
    "\n",
    "SELECT\n",
    "strftime('%m', debut) AS 'Debut_Month',\n",
    "COUNT(* )\n",
    "FROM people\n",
    "GROUP BY Debut_Month\n",
    ";"
   ]
  },
  {
   "cell_type": "code",
   "execution_count": null,
   "metadata": {},
   "outputs": [],
   "source": [
    "# What is the effect of table join order on mean salary for the players listed in the \n",
    "# main (master) table? Hint: Perform two different queries, one that joins on playerID \n",
    "# in the salary table and other that joins on the same column in the master table. \n",
    "# You will have to use left joins for each since right joins are not currently supported with SQLalchemy.\n",
    "\n"
   ]
  },
  {
   "cell_type": "code",
   "execution_count": null,
   "metadata": {},
   "outputs": [],
   "source": []
  }
 ],
 "metadata": {
  "kernelspec": {
   "display_name": "Python 3",
   "language": "python",
   "name": "python3"
  },
  "language_info": {
   "codemirror_mode": {
    "name": "ipython",
    "version": 3
   },
   "file_extension": ".py",
   "mimetype": "text/x-python",
   "name": "python",
   "nbconvert_exporter": "python",
   "pygments_lexer": "ipython3",
   "version": "3.8.3"
  }
 },
 "nbformat": 4,
 "nbformat_minor": 4
}
