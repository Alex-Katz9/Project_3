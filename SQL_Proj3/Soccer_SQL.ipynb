{
 "cells": [
  {
   "cell_type": "code",
   "execution_count": 3,
   "metadata": {},
   "outputs": [
    {
     "data": {
      "text/plain": [
       "array([], dtype=object)"
      ]
     },
     "execution_count": 3,
     "metadata": {},
     "output_type": "execute_result"
    }
   ],
   "source": [
    "import pandas as pd\n",
    "import sqlite3\n",
    "\n",
    "conn = sqlite3.connect('database.sqlite')\n",
    "\n",
    "query = \"SELECT * FROM sqlite_master\"\n",
    "\n",
    "df_schema = pd.read_sql_query(query, conn)\n",
    "\n",
    "df_schema.tbl_name.unique()"
   ]
  },
  {
   "cell_type": "code",
   "execution_count": null,
   "metadata": {},
   "outputs": [],
   "source": [
    "Completed using SQLite3 in Jupyter Notebook Please complete this exercise using sqlite3 (the soccer data, above) and your Jupyter notebook.\n",
    "\n",
    "Which team scored the most points when playing at home?\n",
    "\n",
    "SELECT Team.team_long_name AS Name,\n",
    "Match.home_team_api_id,\n",
    "SUM(Match.home_team_goal) AS Total_Goals\n",
    "FROM Match\n",
    "LEFT JOIN Team\n",
    "ON Match.home_team_api_id = Team.team_api_id\n",
    "GROUP BY Match.home_team_api_id\n",
    "ORDER BY Total_Goals DESC\n",
    ";\n",
    "\n",
    "Real Madrid had the most home goals with 505.\n",
    "\n",
    "Did this team also score the most points when playing away?\n",
    "\n",
    "SELECT Team.team_long_name AS Name,\n",
    "Match.away_team_api_id,\n",
    "SUM(Match.away_team_goal) AS Total_Goals\n",
    "FROM Match\n",
    "LEFT JOIN Team\n",
    "ON Match.away_team_api_id = Team.team_api_id\n",
    "GROUP BY Match.away_team_api_id\n",
    "ORDER BY Total_Goals DESC\n",
    ";\n",
    "\n",
    "They were not first in away goals, but second to FC Barcelona by 16 goals.\n",
    "\n",
    "How many matches resulted in a tie?\n",
    "\n",
    "SELECT COUNT(* )\n",
    "FROM Match\n",
    "WHERE home_team_goal = away_team_goal\n",
    ";\n",
    "\n",
    "There were 6596 ties in this database.\n",
    "\n",
    "How many players have Smith for their last name? How many have 'smith' anywhere in their name?\n",
    "\n",
    "SELECT COUNT()\n",
    "FROM Player\n",
    "WHERE player_name LIKE '% Smith'\n",
    ";\n",
    "SELECT COUNT()\n",
    "FROM Player\n",
    "WHERE player_name LIKE '%smith%'\n",
    ";\n",
    "\n",
    "There are 15 players with a last name of Smith and 18 with 'smith' anywhere in their name.\n",
    "\n",
    "What was the median tie score? Use the value determined in the previous question for the number of tie games. Hint: PostgreSQL does not have a median function. Instead, think about the steps required to calculate a median and use the WITH command to store stepwise results as a table and then operate on these results.\n",
    "\n",
    "WITH ties AS (\n",
    "SELECT home_team_goal,\n",
    "ROW_NUMBER() OVER (ORDER BY home_team_goal) as row_id\n",
    "FROM Match\n",
    "WHERE home_team_goal = away_team_goal\n",
    "ORDER BY home_team_goal\n",
    ")\n",
    "\n",
    "SELECT AVG(home_team_goal) AS Median\n",
    "FROM ties\n",
    "WHERE row_id BETWEEN 6596/2 AND 6596/2+1\n",
    ";\n",
    "\n",
    "The median goals scored in a tie game is 1 for each team.\n",
    "\n",
    "What percentage of players prefer their left or right foot? Hint: Calculate either the right or left foot, whichever is easier based on how you setup the problem.\n",
    "\n",
    "WITH player_foot AS (SELECT player_api_id, preferred_foot\n",
    "FROM Player_Attributes\n",
    "GROUP BY player_api_id)\n",
    "\n",
    "SELECT COUNT(* )\n",
    "FROM player_foot\n",
    "WHERE preferred_foot = 'left'\n",
    ";\n",
    "\n",
    "Repeat the above for right footed players.\n",
    "\n",
    "Since there are 11060 players total and 8373 of them prefer their right foot, that works out to a little over 75%."
   ]
  },
  {
   "cell_type": "code",
   "execution_count": null,
   "metadata": {},
   "outputs": [],
   "source": []
  },
  {
   "cell_type": "code",
   "execution_count": null,
   "metadata": {},
   "outputs": [],
   "source": []
  },
  {
   "cell_type": "code",
   "execution_count": null,
   "metadata": {},
   "outputs": [],
   "source": []
  }
 ],
 "metadata": {
  "kernelspec": {
   "display_name": "Python 3",
   "language": "python",
   "name": "python3"
  },
  "language_info": {
   "codemirror_mode": {
    "name": "ipython",
    "version": 3
   },
   "file_extension": ".py",
   "mimetype": "text/x-python",
   "name": "python",
   "nbconvert_exporter": "python",
   "pygments_lexer": "ipython3",
   "version": "3.8.3"
  }
 },
 "nbformat": 4,
 "nbformat_minor": 4
}
